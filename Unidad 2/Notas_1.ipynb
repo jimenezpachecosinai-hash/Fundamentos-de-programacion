{
  "metadata": {
    "kernelspec": {
      "name": "xpython",
      "display_name": "Python 3.13 (XPython)",
      "language": "python"
    },
    "language_info": {
      "file_extension": ".py",
      "mimetype": "text/x-python",
      "name": "python",
      "version": "3.13.1"
    }
  },
  "nbformat_minor": 5,
  "nbformat": 4,
  "cells": [
    {
      "id": "4c94ec2a-ce70-4865-85e8-c4f371e268b6",
      "cell_type": "code",
      "source": "print(\"Hola mundo\")",
      "metadata": {
        "trusted": true
      },
      "outputs": [
        {
          "name": "stdout",
          "output_type": "stream",
          "text": "Hola mundo\n"
        }
      ],
      "execution_count": 1
    },
    {
      "id": "ebdd1924-5a54-4044-9104-e6af05c377cb",
      "cell_type": "code",
      "source": "\nnumero= 10\ncondicional=7\nif numero >=5:\n    print(f\"El numero es mayor a 5\")\nelse:\n    print(f\"El numero es menor 5\")",
      "metadata": {
        "trusted": true
      },
      "outputs": [
        {
          "name": "stdout",
          "output_type": "stream",
          "text": "El numero es mayor a 5\n"
        }
      ],
      "execution_count": 19
    },
    {
      "id": "23d9f6fe-021f-4d5c-9e89-4f4fc1eee4cf",
      "cell_type": "code",
      "source": "edad=16\nif edad >18:\n    print(f\"Eres mayor de edad\")\nelif edad ==18:\n    print(f\"Vaya a sacar su INE\")\nelse:\n    print(f\"Eres menor de edad\")",
      "metadata": {
        "trusted": true
      },
      "outputs": [
        {
          "name": "stdout",
          "output_type": "stream",
          "text": "Eres menor de edad\n"
        }
      ],
      "execution_count": 24
    },
    {
      "id": "d45a8d15-3a0f-4026-935d-36a7d5ce2353",
      "cell_type": "code",
      "source": "\nfor i in range(5):\n  print(\"Contador\", i)",
      "metadata": {
        "trusted": true
      },
      "outputs": [
        {
          "name": "stdout",
          "output_type": "stream",
          "text": "Contador 0\nContador 1\nContador 2\nContador 3\nContador 4\n"
        }
      ],
      "execution_count": 28
    },
    {
      "id": "5e35544b-4ab5-4097-9b0e-1a26c0a23b76",
      "cell_type": "code",
      "source": "",
      "metadata": {
        "trusted": true
      },
      "outputs": [],
      "execution_count": null
    }
  ]
}