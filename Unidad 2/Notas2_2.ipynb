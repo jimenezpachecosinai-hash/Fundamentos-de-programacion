{
  "metadata": {
    "kernelspec": {
      "name": "xpython",
      "display_name": "Python 3.13 (XPython)",
      "language": "python"
    },
    "language_info": {
      "file_extension": ".py",
      "mimetype": "text/x-python",
      "name": "python",
      "version": "3.13.1"
    }
  },
  "nbformat_minor": 5,
  "nbformat": 4,
  "cells": [
    {
      "id": "5b3a553c-73ea-4360-83e3-8d338435bc54",
      "cell_type": "code",
      "source": "for i in range (1,5):\n    print (\"Número\", i)",
      "metadata": {
        "trusted": true
      },
      "outputs": [
        {
          "name": "stdout",
          "output_type": "stream",
          "text": "Número 1\nNúmero 2\nNúmero 3\nNúmero 4\n"
        }
      ],
      "execution_count": 1
    },
    {
      "id": "f25110d1-cd3c-40b9-9d7b-abae65e9f204",
      "cell_type": "code",
      "source": "suma = 0\n\nfor i in range(1, 11):\n    suma += i\n\nprint(\"La suma de los primeros 10 números es:\", suma)",
      "metadata": {
        "trusted": true
      },
      "outputs": [
        {
          "name": "stdout",
          "output_type": "stream",
          "text": "La suma de los primeros 10 números es: 55\n"
        }
      ],
      "execution_count": 2
    },
    {
      "id": "619dd5bf-711d-4448-aa38-d600ac0c9d8b",
      "cell_type": "code",
      "source": "nombres = [\"Ed\", \"Jorge\", \"María\", \"Luisa\"]\n\nfor nombre in nombres:\n    print(\"Hola,\", nombre)",
      "metadata": {
        "trusted": true
      },
      "outputs": [
        {
          "name": "stdout",
          "output_type": "stream",
          "text": "Hola, Ed\nHola, Jorge\nHola, María\nHola, Luisa\n"
        }
      ],
      "execution_count": 3
    },
    {
      "id": "0cd6a22c-e0c1-4ddc-aec7-91d60d752402",
      "cell_type": "code",
      "source": "#Hacer que un input de tu cumpleaños\n\nCumple = int(input(\"¿Cuál es tu edad?\"))\nfor i in range(1, Cumple):\n    print(\"Feliz cumpleaños número\",i)\n",
      "metadata": {
        "trusted": true
      },
      "outputs": [
        {
          "output_type": "stream",
          "name": "stdin",
          "text": "¿Cuál es tu edad? 17\n"
        },
        {
          "name": "stdout",
          "output_type": "stream",
          "text": "Feliz cumpleaños número 1\nFeliz cumpleaños número 2\nFeliz cumpleaños número 3\nFeliz cumpleaños número 4\nFeliz cumpleaños número 5\nFeliz cumpleaños número 6\nFeliz cumpleaños número 7\nFeliz cumpleaños número 8\nFeliz cumpleaños número 9\nFeliz cumpleaños número 10\nFeliz cumpleaños número 11\nFeliz cumpleaños número 12\nFeliz cumpleaños número 13\nFeliz cumpleaños número 14\nFeliz cumpleaños número 15\nFeliz cumpleaños número 16\n"
        }
      ],
      "execution_count": 4
    },
    {
      "id": "72f30389-3ace-47a2-b116-cc611e5eef8f",
      "cell_type": "code",
      "source": "#Hacer que con un input se agregue la edad\nopcion=int(input(\"Escoge un archivo\"))\n\nif opcion == 1:\n    print(\"Has elegido guardar el archivo\")\nelif opcion == 2:\n    print(\"Has elegido abrir un archivo\")\nelif opcion == 3:\n    print(\"Has elegido salir del programa\")\nelse:\n    print(\"Opción no válida\")",
      "metadata": {
        "trusted": true
      },
      "outputs": [
        {
          "output_type": "stream",
          "name": "stdin",
          "text": "Escoge un archivo 3\n"
        },
        {
          "name": "stdout",
          "output_type": "stream",
          "text": "Has elegido salir del programa\n"
        }
      ],
      "execution_count": 9
    },
    {
      "id": "0f715c17-cc25-4798-a231-c17d83678db4",
      "cell_type": "code",
      "source": "#Hacer que con un input se agregue la calificación\nopcion=int(input(\"Escribe tu calificacion\"))\ncalificacion = 75\n\nif calificacion >= 90:\n    print(\"Excelente\")\nelif calificacion >= 70:\n    print(\"Aprobado\")\nelse:\n    print(\"Reprobado\")",
      "metadata": {
        "trusted": true
      },
      "outputs": [
        {
          "output_type": "stream",
          "name": "stdin",
          "text": "Escribe tu calificacion 85\n"
        },
        {
          "name": "stdout",
          "output_type": "stream",
          "text": "Aprobado\n"
        }
      ],
      "execution_count": 10
    },
    {
      "id": "7dfccae9-7e10-4cb3-94bf-ce82725e4bd5",
      "cell_type": "code",
      "source": "numero_secreto = 7\nadivinanza = 0\n\nwhile adivinanza != numero_secreto:\n    adivinanza = int(input(\"Adivina el número (1-10): \"))\n\nprint(\"¡Correcto! El número era\", numero_secreto)\n     ",
      "metadata": {
        "trusted": true
      },
      "outputs": [
        {
          "output_type": "stream",
          "name": "stdin",
          "text": "Adivina el número (1-10):  5\nAdivina el número (1-10):  6\nAdivina el número (1-10):  7\n"
        },
        {
          "name": "stdout",
          "output_type": "stream",
          "text": "¡Correcto! El número era 7\n"
        }
      ],
      "execution_count": 11
    },
    {
      "id": "60047da1-fdf8-4671-9eb4-1a444a1e9111",
      "cell_type": "code",
      "source": "contador = 1\n\nwhile contador <= 5:\n    print(\"Número:\", contador)\n    contador += 1  # incrementa el contador",
      "metadata": {
        "trusted": true
      },
      "outputs": [
        {
          "name": "stdout",
          "output_type": "stream",
          "text": "Número: 1\nNúmero: 2\nNúmero: 3\nNúmero: 4\nNúmero: 5\n"
        }
      ],
      "execution_count": 8
    },
    {
      "id": "6a301bea-6222-4163-b0f3-38e96c975d74",
      "cell_type": "code",
      "source": "",
      "metadata": {
        "trusted": true
      },
      "outputs": [],
      "execution_count": null
    }
  ]
}